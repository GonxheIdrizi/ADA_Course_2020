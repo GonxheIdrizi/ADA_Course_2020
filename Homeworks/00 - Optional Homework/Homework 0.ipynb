{
 "cells": [
  {
   "cell_type": "markdown",
   "metadata": {},
   "source": [
    "# Homework 0"
   ]
  },
  {
   "cell_type": "markdown",
   "metadata": {},
   "source": [
    "For this initial homework we will be working with a [dataset](https://github.com/fivethirtyeight/guns-data/blob/master/interactive_data.csv) available as a part of an interesting analysis of [gunshot deaths in the US](https://fivethirtyeight.com/features/gun-deaths/). The goal of this optional homework is to carefully go through the interactive visualization portrayed at the top of the aforementioned article, and use an IPython Notebook to reproduce the following claims made in the visualization:\n",
    "\n",
    "1. Nearly two-thirds of gun deaths are suicides.\n",
    "2. More than 85 percent of suicide victims are male.\n",
    "3. Around a third of all gun deaths are homicides.\n",
    "4. Around two-thirds of homicide victims who are males in the age-group of 15--34 are black.\n",
    "5. Women constitue only 15 percent of the total homicide victims.\n",
    "\n",
    "**It's not necessary to generate visualizations for the results-- numbers should be more than enough** to convince yourself that you were able to reproduce the results of that article."
   ]
  },
  {
   "cell_type": "code",
   "execution_count": 1,
   "metadata": {},
   "outputs": [
    {
     "data": {
      "text/html": [
       "<div>\n",
       "<style scoped>\n",
       "    .dataframe tbody tr th:only-of-type {\n",
       "        vertical-align: middle;\n",
       "    }\n",
       "\n",
       "    .dataframe tbody tr th {\n",
       "        vertical-align: top;\n",
       "    }\n",
       "\n",
       "    .dataframe thead th {\n",
       "        text-align: right;\n",
       "    }\n",
       "</style>\n",
       "<table border=\"1\" class=\"dataframe\">\n",
       "  <thead>\n",
       "    <tr style=\"text-align: right;\">\n",
       "      <th></th>\n",
       "      <th>Unnamed: 0</th>\n",
       "      <th>Intent</th>\n",
       "      <th>Gender</th>\n",
       "      <th>Age</th>\n",
       "      <th>Race</th>\n",
       "      <th>Deaths</th>\n",
       "      <th>Population</th>\n",
       "      <th>Rate</th>\n",
       "    </tr>\n",
       "  </thead>\n",
       "  <tbody>\n",
       "    <tr>\n",
       "      <th>0</th>\n",
       "      <td>1</td>\n",
       "      <td>None selected</td>\n",
       "      <td>None selected</td>\n",
       "      <td>None selected</td>\n",
       "      <td>None selected</td>\n",
       "      <td>33599</td>\n",
       "      <td>316299978</td>\n",
       "      <td>10.6</td>\n",
       "    </tr>\n",
       "    <tr>\n",
       "      <th>1</th>\n",
       "      <td>2</td>\n",
       "      <td>None selected</td>\n",
       "      <td>None selected</td>\n",
       "      <td>None selected</td>\n",
       "      <td>White</td>\n",
       "      <td>22079</td>\n",
       "      <td>197369634</td>\n",
       "      <td>11.2</td>\n",
       "    </tr>\n",
       "    <tr>\n",
       "      <th>2</th>\n",
       "      <td>3</td>\n",
       "      <td>None selected</td>\n",
       "      <td>None selected</td>\n",
       "      <td>None selected</td>\n",
       "      <td>Black</td>\n",
       "      <td>7765</td>\n",
       "      <td>38896382</td>\n",
       "      <td>20.0</td>\n",
       "    </tr>\n",
       "    <tr>\n",
       "      <th>3</th>\n",
       "      <td>4</td>\n",
       "      <td>None selected</td>\n",
       "      <td>None selected</td>\n",
       "      <td>None selected</td>\n",
       "      <td>Hispanic</td>\n",
       "      <td>3007</td>\n",
       "      <td>54049078</td>\n",
       "      <td>5.6</td>\n",
       "    </tr>\n",
       "    <tr>\n",
       "      <th>4</th>\n",
       "      <td>5</td>\n",
       "      <td>None selected</td>\n",
       "      <td>None selected</td>\n",
       "      <td>None selected</td>\n",
       "      <td>Asian/Pacific Islander</td>\n",
       "      <td>442</td>\n",
       "      <td>16315561</td>\n",
       "      <td>2.7</td>\n",
       "    </tr>\n",
       "    <tr>\n",
       "      <th>...</th>\n",
       "      <td>...</td>\n",
       "      <td>...</td>\n",
       "      <td>...</td>\n",
       "      <td>...</td>\n",
       "      <td>...</td>\n",
       "      <td>...</td>\n",
       "      <td>...</td>\n",
       "      <td>...</td>\n",
       "    </tr>\n",
       "    <tr>\n",
       "      <th>535</th>\n",
       "      <td>536</td>\n",
       "      <td>Unknown</td>\n",
       "      <td>Male</td>\n",
       "      <td>5</td>\n",
       "      <td>White</td>\n",
       "      <td>0</td>\n",
       "      <td>0</td>\n",
       "      <td>NaN</td>\n",
       "    </tr>\n",
       "    <tr>\n",
       "      <th>536</th>\n",
       "      <td>537</td>\n",
       "      <td>Unknown</td>\n",
       "      <td>Male</td>\n",
       "      <td>5</td>\n",
       "      <td>Black</td>\n",
       "      <td>0</td>\n",
       "      <td>0</td>\n",
       "      <td>NaN</td>\n",
       "    </tr>\n",
       "    <tr>\n",
       "      <th>537</th>\n",
       "      <td>538</td>\n",
       "      <td>Unknown</td>\n",
       "      <td>Male</td>\n",
       "      <td>5</td>\n",
       "      <td>Hispanic</td>\n",
       "      <td>0</td>\n",
       "      <td>0</td>\n",
       "      <td>NaN</td>\n",
       "    </tr>\n",
       "    <tr>\n",
       "      <th>538</th>\n",
       "      <td>539</td>\n",
       "      <td>Unknown</td>\n",
       "      <td>Male</td>\n",
       "      <td>5</td>\n",
       "      <td>Asian/Pacific Islander</td>\n",
       "      <td>0</td>\n",
       "      <td>0</td>\n",
       "      <td>NaN</td>\n",
       "    </tr>\n",
       "    <tr>\n",
       "      <th>539</th>\n",
       "      <td>540</td>\n",
       "      <td>Unknown</td>\n",
       "      <td>Male</td>\n",
       "      <td>5</td>\n",
       "      <td>Other</td>\n",
       "      <td>0</td>\n",
       "      <td>0</td>\n",
       "      <td>NaN</td>\n",
       "    </tr>\n",
       "  </tbody>\n",
       "</table>\n",
       "<p>540 rows × 8 columns</p>\n",
       "</div>"
      ],
      "text/plain": [
       "     Unnamed: 0         Intent         Gender            Age  \\\n",
       "0             1  None selected  None selected  None selected   \n",
       "1             2  None selected  None selected  None selected   \n",
       "2             3  None selected  None selected  None selected   \n",
       "3             4  None selected  None selected  None selected   \n",
       "4             5  None selected  None selected  None selected   \n",
       "..          ...            ...            ...            ...   \n",
       "535         536        Unknown           Male              5   \n",
       "536         537        Unknown           Male              5   \n",
       "537         538        Unknown           Male              5   \n",
       "538         539        Unknown           Male              5   \n",
       "539         540        Unknown           Male              5   \n",
       "\n",
       "                       Race  Deaths  Population  Rate  \n",
       "0             None selected   33599   316299978  10.6  \n",
       "1                     White   22079   197369634  11.2  \n",
       "2                     Black    7765    38896382  20.0  \n",
       "3                  Hispanic    3007    54049078   5.6  \n",
       "4    Asian/Pacific Islander     442    16315561   2.7  \n",
       "..                      ...     ...         ...   ...  \n",
       "535                   White       0           0   NaN  \n",
       "536                   Black       0           0   NaN  \n",
       "537                Hispanic       0           0   NaN  \n",
       "538  Asian/Pacific Islander       0           0   NaN  \n",
       "539                   Other       0           0   NaN  \n",
       "\n",
       "[540 rows x 8 columns]"
      ]
     },
     "execution_count": 1,
     "metadata": {},
     "output_type": "execute_result"
    }
   ],
   "source": [
    "import pandas as pd\n",
    "url = 'https://raw.githubusercontent.com/fivethirtyeight/guns-data/master/interactive_data.csv'\n",
    "df = pd.read_csv(url, error_bad_lines=False)\n",
    "df"
   ]
  },
  {
   "cell_type": "markdown",
   "metadata": {},
   "source": [
    "## Nearly two-thirds of gun deaths are suicides"
   ]
  },
  {
   "cell_type": "code",
   "execution_count": 23,
   "metadata": {},
   "outputs": [
    {
     "data": {
      "text/plain": [
       "array(['None selected', 'Female', 'Male'], dtype=object)"
      ]
     },
     "execution_count": 23,
     "metadata": {},
     "output_type": "execute_result"
    }
   ],
   "source": [
    "df['Gender'].unique()"
   ]
  },
  {
   "cell_type": "code",
   "execution_count": 3,
   "metadata": {},
   "outputs": [],
   "source": [
    "suicides = df.copy()\n",
    "suicides['Bolean'] = suicides['Intent'] == 'Suicide'\n",
    "deaths_others = suicides[(suicides.Intent == 'None selected') & (suicides.Gender == 'None selected') & (suicides.Age == 'None selected') & (suicides.Race == 'None selected')].Deaths\n",
    "deaths_suicides = suicides[(suicides.Intent == 'Suicide') & (suicides.Gender == 'None selected') & (suicides.Age == 'None selected') & (suicides.Race == 'None selected')].Deaths"
   ]
  },
  {
   "cell_type": "code",
   "execution_count": 7,
   "metadata": {},
   "outputs": [
    {
     "name": "stdout",
     "output_type": "stream",
     "text": [
      "Probability of suicides: 0.6267448435965356\n"
     ]
    }
   ],
   "source": [
    "print(\"Probability of suicides: {}\".format(float(deaths_suicides)/float(deaths_others)))"
   ]
  },
  {
   "cell_type": "markdown",
   "metadata": {},
   "source": [
    "## More than 85 percent of suicide victims are male"
   ]
  },
  {
   "cell_type": "code",
   "execution_count": 8,
   "metadata": {},
   "outputs": [],
   "source": [
    "suicides_males = suicides[(suicides.Intent == 'Suicide') & (suicides.Gender == 'Male') & (suicides.Age == 'None selected') & (suicides.Race == 'None selected')].Deaths"
   ]
  },
  {
   "cell_type": "code",
   "execution_count": 10,
   "metadata": {},
   "outputs": [
    {
     "name": "stdout",
     "output_type": "stream",
     "text": [
      "Percent of male suicides: 86.24750688574414\n"
     ]
    }
   ],
   "source": [
    "print(\"Percent of male suicides: {}\".format(float(suicides_males)/float(deaths_suicides)*100))"
   ]
  },
  {
   "cell_type": "markdown",
   "metadata": {},
   "source": [
    "## Around a third of all gun deaths are homicides"
   ]
  },
  {
   "cell_type": "code",
   "execution_count": 13,
   "metadata": {},
   "outputs": [],
   "source": [
    "homicides = suicides[(suicides.Intent == 'Homicide') & (suicides.Gender == 'None selected') & (suicides.Age == 'None selected') & (suicides.Race == 'None selected')].Deaths "
   ]
  },
  {
   "cell_type": "code",
   "execution_count": 22,
   "metadata": {},
   "outputs": [
    {
     "name": "stdout",
     "output_type": "stream",
     "text": [
      "Probability of homicides: 0.3489984820976815\n"
     ]
    }
   ],
   "source": [
    "print(\"Probability of homicides: {}\".format(float(homicides)/float(deaths_others)))"
   ]
  },
  {
   "cell_type": "markdown",
   "metadata": {},
   "source": [
    "## Around two-thirds of homicide victims who are males in the age-group of 15--34 are black"
   ]
  },
  {
   "cell_type": "code",
   "execution_count": 20,
   "metadata": {},
   "outputs": [],
   "source": [
    "black_males = suicides[(suicides.Intent == 'Homicide') & (suicides.Gender == 'Male') & (suicides.Age == '15 - 34') & (suicides.Race == 'Black')].Deaths\n",
    "males = suicides[(suicides.Intent == 'Homicide') & (suicides.Gender == 'Male') & (suicides.Age == '15 - 34') & (suicides.Race == 'None selected')].Deaths"
   ]
  },
  {
   "cell_type": "code",
   "execution_count": 21,
   "metadata": {},
   "outputs": [
    {
     "name": "stdout",
     "output_type": "stream",
     "text": [
      "Probability of homicides male black: 0.6613496932515337\n"
     ]
    }
   ],
   "source": [
    "print(\"Probability of homicides male black: {}\".format(float(black_males)/float(males)))"
   ]
  },
  {
   "cell_type": "markdown",
   "metadata": {},
   "source": [
    "## Women constitue only 15 percent of the total homicide victims"
   ]
  },
  {
   "cell_type": "code",
   "execution_count": 26,
   "metadata": {},
   "outputs": [],
   "source": [
    "females = suicides[(suicides.Intent == 'Homicide') & (suicides.Gender == 'Female') & (suicides.Age == 'None selected') & (suicides.Race == 'None selected')].Deaths"
   ]
  },
  {
   "cell_type": "code",
   "execution_count": 28,
   "metadata": {},
   "outputs": [
    {
     "name": "stdout",
     "output_type": "stream",
     "text": [
      "Percentage of female homicides: 15.273750639604296\n"
     ]
    }
   ],
   "source": [
    "print(\"Percentage of female homicides: {}\".format(float(females)/float(homicides)*100))"
   ]
  }
 ],
 "metadata": {
  "kernelspec": {
   "display_name": "ada",
   "language": "python",
   "name": "ada"
  },
  "language_info": {
   "codemirror_mode": {
    "name": "ipython",
    "version": 3
   },
   "file_extension": ".py",
   "mimetype": "text/x-python",
   "name": "python",
   "nbconvert_exporter": "python",
   "pygments_lexer": "ipython3",
   "version": "3.8.5"
  },
  "toc": {
   "base_numbering": 1,
   "nav_menu": {
    "height": "57px",
    "width": "331px"
   },
   "number_sections": true,
   "sideBar": true,
   "skip_h1_title": false,
   "title_cell": "Table of Contents",
   "title_sidebar": "Contents",
   "toc_cell": false,
   "toc_position": {},
   "toc_section_display": true,
   "toc_window_display": false
  }
 },
 "nbformat": 4,
 "nbformat_minor": 4
}
